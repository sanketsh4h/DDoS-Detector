{
  "nbformat": 4,
  "nbformat_minor": 0,
  "metadata": {
    "colab": {
      "name": "DDoS algo clusterv2.ipynb",
      "provenance": [],
      "collapsed_sections": [],
      "toc_visible": true
    },
    "kernelspec": {
      "name": "python3",
      "display_name": "Python 3"
    }
  },
  "cells": [
    {
      "cell_type": "markdown",
      "metadata": {
        "id": "IaXwymu58B7i"
      },
      "source": [
        "# Importing Packages"
      ]
    },
    {
      "cell_type": "code",
      "metadata": {
        "id": "i61MdwbQsTSs"
      },
      "source": [
        "import numpy as np\n",
        "import pandas as pd\n",
        "from sklearn.neural_network import MLPClassifier\n",
        "from sklearn.metrics import accuracy_score\n",
        "from sklearn.model_selection import train_test_split\n",
        "import pickle as pkl"
      ],
      "execution_count": 3,
      "outputs": []
    },
    {
      "cell_type": "markdown",
      "metadata": {
        "id": "7aQ-cdT8_RGQ"
      },
      "source": [
        "# Loading Dataset"
      ]
    },
    {
      "cell_type": "code",
      "metadata": {
        "id": "hquA-wZT8Mhj",
        "colab": {
          "base_uri": "https://localhost:8080/"
        },
        "outputId": "794cd2e1-f4bf-4226-c16e-15b6e15ae258"
      },
      "source": [
        "colnames = [\"duration\",\"protocol_type\",\"service\",\"flag\",\"src_bytes\",\"dst_bytes\",\"land\",\"wrong_fragment\",\"urgent\",\"hot\",\"num_failed_logins\",\"logged_in\",\"num_compromised\",\"root_shell\",\"su_attempted\",\"num_root\",\"num_file_creations\",\"num_shells\",\"num_access_files\",\"num_outbound_cmds\",\"is_host_login\",\"is_guest_login\",\"count\",\"srv_count\",\"serror_rate\",\"srv_serror_rate\",\"same_srv_rate\",\"diff_srv_rate\",\"srv_diff_host_rate\",\"una1\",\"una2\",\"dst_host_count\",\"dst_host_srv_count\",\"dst_host_same_srv_rate\",\"dst_host_diff_srv_rate\",\"dst_host_same_src_port_rate\",\"dst_host_srv_diff_host_rate\",\"dst_host_serror_rate\",\"dst_host_srv_serror_rate\",\"dst_host_rerror_rate\",\"dst_host_srv_rerror_rate\",\"result\"]\n",
        "df = pd.read_csv(\"icmp_revised_kddcup_dataset.csv\", header=None,names=colnames ,index_col=0)"
      ],
      "execution_count": 5,
      "outputs": [
        {
          "output_type": "stream",
          "text": [
            "/usr/local/lib/python3.6/dist-packages/IPython/core/interactiveshell.py:2718: DtypeWarning: Columns (1,5,6,7,8,9,10,11,12,13,14,15,16,17,18,19,20,21,22,23,24,25,26,27,28,29,30,31,32,33,34,35,36,37,38,39,40,41) have mixed types.Specify dtype option on import or set low_memory=False.\n",
            "  interactivity=interactivity, compiler=compiler, result=result)\n"
          ],
          "name": "stderr"
        }
      ]
    },
    {
      "cell_type": "code",
      "metadata": {
        "id": "To6Z0wgx9V96"
      },
      "source": [
        "icmp_df = df[df.loc[:,\"protocol_type\"] == \"icmp\"]"
      ],
      "execution_count": 6,
      "outputs": []
    },
    {
      "cell_type": "code",
      "metadata": {
        "id": "YEiAV6i46NIc"
      },
      "source": [
        "icmp_features = [\"service\",\"src_bytes\",\"srv_count\"]\n",
        "icmp_target = \"result\"\n",
        "\n",
        "icmp_y = icmp_df.loc[:,icmp_target]"
      ],
      "execution_count": 7,
      "outputs": []
    },
    {
      "cell_type": "code",
      "metadata": {
        "id": "Qop61EkvxQBX",
        "colab": {
          "base_uri": "https://localhost:8080/"
        },
        "outputId": "0a540c6e-4597-4001-b0b7-6b1a37bdb7ba"
      },
      "source": [
        "classes = np.unique(icmp_y)\n",
        "print(classes)"
      ],
      "execution_count": 8,
      "outputs": [
        {
          "output_type": "stream",
          "text": [
            "['ipsweep.' 'multihop.' 'normal.' 'pod.' 'saint.' 'satan.' 'smurf.'\n",
            " 'snmpguess.']\n"
          ],
          "name": "stdout"
        }
      ]
    },
    {
      "cell_type": "code",
      "metadata": {
        "id": "Io77IqTR6ABA"
      },
      "source": [
        "for i in range(len(classes)):\n",
        "    if i == 2:\n",
        "        icmp_df = icmp_df.replace(classes[i], 0)\n",
        "    else:\n",
        "        icmp_df = icmp_df.replace(classes[i], 1)\n",
        "\n",
        "#turning the service attribute to categorical values\n",
        "icmp_df=icmp_df.replace(\"eco_i\",-0.1)\n",
        "icmp_df=icmp_df.replace(\"ecr_i\",0.0)\n",
        "icmp_df=icmp_df.replace(\"tim_i\",0.1)\n",
        "icmp_df=icmp_df.replace(\"urp_i\",0.2)\n",
        "\n",
        "icmp_y = icmp_df.loc[:,icmp_target]\n",
        "icmp_X = icmp_df.loc[:,icmp_features]"
      ],
      "execution_count": 9,
      "outputs": []
    },
    {
      "cell_type": "markdown",
      "metadata": {
        "id": "eUDiVhr16iHy"
      },
      "source": [
        "# Training a Random Forest Classifier to list out importance of features"
      ]
    },
    {
      "cell_type": "code",
      "metadata": {
        "id": "PK9rDMbR5V-S",
        "colab": {
          "base_uri": "https://localhost:8080/"
        },
        "outputId": "758ced3a-186b-422c-fff4-c8ae30b9a8e2"
      },
      "source": [
        "from sklearn.ensemble import RandomForestClassifier\n",
        "rs = RandomForestClassifier()\n",
        "rs.fit(icmp_X,icmp_y)\n",
        "print(pd.Series(rs.feature_importances_,index=icmp_features).sort_values(ascending=False))"
      ],
      "execution_count": 11,
      "outputs": [
        {
          "output_type": "stream",
          "text": [
            "src_bytes    0.565416\n",
            "srv_count    0.305651\n",
            "service      0.128933\n",
            "dtype: float64\n"
          ],
          "name": "stdout"
        }
      ]
    },
    {
      "cell_type": "markdown",
      "metadata": {
        "id": "MvuEZKU96pkZ"
      },
      "source": [
        "# Training the Model"
      ]
    },
    {
      "cell_type": "code",
      "metadata": {
        "id": "wqErcLhQarJh"
      },
      "source": [
        "icmp_X_train, icmp_X_test, icmp_y_train, icmp_y_test = train_test_split(icmp_X, icmp_y, random_state=42, test_size=0.3)"
      ],
      "execution_count": 15,
      "outputs": []
    },
    {
      "cell_type": "code",
      "metadata": {
        "id": "AHUSwcj_1GzR",
        "colab": {
          "base_uri": "https://localhost:8080/"
        },
        "outputId": "5e74a905-12fa-4fc1-8373-b551403aa3f2"
      },
      "source": [
        "icmp_model = MLPClassifier(alpha=0.005)\n ",
        "\n",
        "icmp_model.fit(icmp_X_train,icmp_y_train)"
      ],
      "execution_count": 56,
      "outputs": [
        {
          "output_type": "execute_result",
          "data": {
            "text/plain": [
              "MLPClassifier(activation='relu', alpha=0.005, batch_size='auto', beta_1=0.9,\n",
              "              beta_2=0.999, early_stopping=False, epsilon=1e-08,\n",
              "              hidden_layer_sizes=(100,), learning_rate='constant',\n",
              "              learning_rate_init=0.001, max_fun=15000, max_iter=200,\n",
              "              momentum=0.9, n_iter_no_change=10, nesterovs_momentum=True,\n",
              "              power_t=0.5, random_state=None, shuffle=True, solver='adam',\n",
              "              tol=0.0001, validation_fraction=0.1, verbose=False,\n",
              "              warm_start=False)"
            ]
          },
          "metadata": {
            "tags": []
          },
          "execution_count": 56
        }
      ]
    },
    {
      "cell_type": "markdown",
      "metadata": {
        "id": "hrlWnJMX6seR"
      },
      "source": [
        "# Serializing the Model to make it Usable"
      ]
    },
    {
      "cell_type": "code",
      "metadata": {
        "id": "XwLotVK-6fiz"
      },
      "source": [
        "icmp_filename = \"icmp_model.pkl\"\n",
        "pkl.dump(icmp_model, open(icmp_filename, 'wb'))"
      ],
      "execution_count": 57,
      "outputs": []
    },
    {
      "cell_type": "markdown",
      "metadata": {
        "id": "LOE0xC-z60Gg"
      },
      "source": [
        "# Loading and testing the model"
      ]
    },
    {
      "cell_type": "code",
      "metadata": {
        "id": "bJzBVMq46Wgs",
        "colab": {
          "base_uri": "https://localhost:8080/"
        },
        "outputId": "e46d5d24-fc52-447f-e78b-d2253aa383bc"
      },
      "source": [
        "loaded_icmp_model = pkl.load(open(icmp_filename, 'rb'))\n",
        "icmp_y_pred = loaded_icmp_model.predict(icmp_X_test)\n",
        "icmp_score = accuracy_score(icmp_y_test, icmp_y_pred)*100\n",
        "print(icmp_score)"
      ],
      "execution_count": 59,
      "outputs": [
        {
          "output_type": "stream",
          "text": [
            "99.78581964397567\n"
          ],
          "name": "stdout"
        }
      ]
    }
  ]
}
